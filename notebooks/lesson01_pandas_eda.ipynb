{
 "cells": [
  {
   "cell_type": "markdown",
   "id": "cddd9883",
   "metadata": {},
   "source": [
    "# Урок 1B: Pandas + мини-EDA\n",
    "Датасет: `../data/orders.csv`.\n"
   ]
  },
  {
   "cell_type": "code",
   "execution_count": 7,
   "id": "0932fd5f",
   "metadata": {},
   "outputs": [
    {
     "data": {
      "text/html": [
       "<div>\n",
       "<style scoped>\n",
       "    .dataframe tbody tr th:only-of-type {\n",
       "        vertical-align: middle;\n",
       "    }\n",
       "\n",
       "    .dataframe tbody tr th {\n",
       "        vertical-align: top;\n",
       "    }\n",
       "\n",
       "    .dataframe thead th {\n",
       "        text-align: right;\n",
       "    }\n",
       "</style>\n",
       "<table border=\"1\" class=\"dataframe\">\n",
       "  <thead>\n",
       "    <tr style=\"text-align: right;\">\n",
       "      <th></th>\n",
       "      <th>order_id</th>\n",
       "      <th>date</th>\n",
       "      <th>city</th>\n",
       "      <th>category</th>\n",
       "      <th>price</th>\n",
       "    </tr>\n",
       "  </thead>\n",
       "  <tbody>\n",
       "    <tr>\n",
       "      <th>0</th>\n",
       "      <td>1</td>\n",
       "      <td>2025-01-03</td>\n",
       "      <td>Алматы</td>\n",
       "      <td>Электроника</td>\n",
       "      <td>199900</td>\n",
       "    </tr>\n",
       "    <tr>\n",
       "      <th>1</th>\n",
       "      <td>2</td>\n",
       "      <td>2025-01-03</td>\n",
       "      <td>Астана</td>\n",
       "      <td>Одежда</td>\n",
       "      <td>29900</td>\n",
       "    </tr>\n",
       "    <tr>\n",
       "      <th>2</th>\n",
       "      <td>3</td>\n",
       "      <td>2025-01-04</td>\n",
       "      <td>Алматы</td>\n",
       "      <td>Одежда</td>\n",
       "      <td>15900</td>\n",
       "    </tr>\n",
       "    <tr>\n",
       "      <th>3</th>\n",
       "      <td>4</td>\n",
       "      <td>2025-01-04</td>\n",
       "      <td>Шымкент</td>\n",
       "      <td>Электроника</td>\n",
       "      <td>89900</td>\n",
       "    </tr>\n",
       "    <tr>\n",
       "      <th>4</th>\n",
       "      <td>5</td>\n",
       "      <td>2025-01-05</td>\n",
       "      <td>Алматы</td>\n",
       "      <td>Дом</td>\n",
       "      <td>25900</td>\n",
       "    </tr>\n",
       "  </tbody>\n",
       "</table>\n",
       "</div>"
      ],
      "text/plain": [
       "   order_id       date     city     category   price\n",
       "0         1 2025-01-03   Алматы  Электроника  199900\n",
       "1         2 2025-01-03   Астана       Одежда   29900\n",
       "2         3 2025-01-04   Алматы       Одежда   15900\n",
       "3         4 2025-01-04  Шымкент  Электроника   89900\n",
       "4         5 2025-01-05   Алматы          Дом   25900"
      ]
     },
     "execution_count": 7,
     "metadata": {},
     "output_type": "execute_result"
    }
   ],
   "source": [
    "import pandas as pd\n",
    "import matplotlib.pyplot as plt\n",
    "df = pd.read_csv('../data/orders.csv', parse_dates=['date'])\n",
    "df.head()\n"
   ]
  },
  {
   "cell_type": "code",
   "execution_count": 8,
   "id": "c89e01c8",
   "metadata": {},
   "outputs": [
    {
     "data": {
      "text/html": [
       "<div>\n",
       "<style scoped>\n",
       "    .dataframe tbody tr th:only-of-type {\n",
       "        vertical-align: middle;\n",
       "    }\n",
       "\n",
       "    .dataframe tbody tr th {\n",
       "        vertical-align: top;\n",
       "    }\n",
       "\n",
       "    .dataframe thead th {\n",
       "        text-align: right;\n",
       "    }\n",
       "</style>\n",
       "<table border=\"1\" class=\"dataframe\">\n",
       "  <thead>\n",
       "    <tr style=\"text-align: right;\">\n",
       "      <th></th>\n",
       "      <th>date</th>\n",
       "      <th>price</th>\n",
       "    </tr>\n",
       "  </thead>\n",
       "  <tbody>\n",
       "    <tr>\n",
       "      <th>0</th>\n",
       "      <td>2025-01-03</td>\n",
       "      <td>229800</td>\n",
       "    </tr>\n",
       "    <tr>\n",
       "      <th>1</th>\n",
       "      <td>2025-01-04</td>\n",
       "      <td>105800</td>\n",
       "    </tr>\n",
       "    <tr>\n",
       "      <th>2</th>\n",
       "      <td>2025-01-05</td>\n",
       "      <td>155800</td>\n",
       "    </tr>\n",
       "    <tr>\n",
       "      <th>3</th>\n",
       "      <td>2025-01-06</td>\n",
       "      <td>73700</td>\n",
       "    </tr>\n",
       "    <tr>\n",
       "      <th>4</th>\n",
       "      <td>2025-01-07</td>\n",
       "      <td>25900</td>\n",
       "    </tr>\n",
       "  </tbody>\n",
       "</table>\n",
       "</div>"
      ],
      "text/plain": [
       "        date   price\n",
       "0 2025-01-03  229800\n",
       "1 2025-01-04  105800\n",
       "2 2025-01-05  155800\n",
       "3 2025-01-06   73700\n",
       "4 2025-01-07   25900"
      ]
     },
     "execution_count": 8,
     "metadata": {},
     "output_type": "execute_result"
    }
   ],
   "source": [
    "rev_by_day = df.groupby('date', as_index=False)['price'].sum()\n",
    "rev_by_day\n"
   ]
  },
  {
   "cell_type": "code",
   "execution_count": 9,
   "id": "6efd9bd9",
   "metadata": {},
   "outputs": [
    {
     "data": {
      "image/png": "[encoded data removed]",
      "text/plain": [
       "<Figure size 800x400 with 1 Axes>"
      ]
     },
     "metadata": {},
     "output_type": "display_data"
    }
   ],
   "source": [
    "rev_by_day.plot(x='date', y='price', kind='line', figsize=(8,4))\n",
    "plt.title('Выручка по дням'); plt.xlabel('Дата'); plt.ylabel('Выручка')\n",
    "plt.tight_layout(); plt.show()\n"
   ]
  },
  {
   "cell_type": "code",
   "execution_count": 10,
   "id": "815ffdd7",
   "metadata": {},
   "outputs": [
    {
     "data": {
      "text/html": [
       "<div>\n",
       "<style scoped>\n",
       "    .dataframe tbody tr th:only-of-type {\n",
       "        vertical-align: middle;\n",
       "    }\n",
       "\n",
       "    .dataframe tbody tr th {\n",
       "        vertical-align: top;\n",
       "    }\n",
       "\n",
       "    .dataframe thead th {\n",
       "        text-align: right;\n",
       "    }\n",
       "</style>\n",
       "<table border=\"1\" class=\"dataframe\">\n",
       "  <thead>\n",
       "    <tr style=\"text-align: right;\">\n",
       "      <th></th>\n",
       "      <th>category</th>\n",
       "      <th>price</th>\n",
       "    </tr>\n",
       "  </thead>\n",
       "  <tbody>\n",
       "    <tr>\n",
       "      <th>2</th>\n",
       "      <td>Электроника</td>\n",
       "      <td>419700</td>\n",
       "    </tr>\n",
       "    <tr>\n",
       "      <th>1</th>\n",
       "      <td>Одежда</td>\n",
       "      <td>90600</td>\n",
       "    </tr>\n",
       "    <tr>\n",
       "      <th>0</th>\n",
       "      <td>Дом</td>\n",
       "      <td>80700</td>\n",
       "    </tr>\n",
       "  </tbody>\n",
       "</table>\n",
       "</div>"
      ],
      "text/plain": [
       "      category   price\n",
       "2  Электроника  419700\n",
       "1       Одежда   90600\n",
       "0          Дом   80700"
      ]
     },
     "execution_count": 10,
     "metadata": {},
     "output_type": "execute_result"
    }
   ],
   "source": [
    "rev_by_cat = df.groupby('category', as_index=False)['price'].sum().sort_values('price', ascending=False)\n",
    "rev_by_cat\n"
   ]
  },
  {
   "cell_type": "code",
   "execution_count": 11,
   "id": "3179a63e",
   "metadata": {},
   "outputs": [
    {
     "data": {
      "image/png": "[encoded data removed]",
      "text/plain": [
       "<Figure size 800x400 with 1 Axes>"
      ]
     },
     "metadata": {},
     "output_type": "display_data"
    }
   ],
   "source": [
    "rev_by_cat.plot(x='category', y='price', kind='bar', figsize=(8,4), legend=False)\n",
    "plt.title('Выручка по категориям'); plt.xlabel('Категория'); plt.ylabel('Выручка')\n",
    "plt.tight_layout(); plt.show()\n"
   ]
  },
  {
   "cell_type": "code",
   "execution_count": 12,
   "id": "b77a4f27",
   "metadata": {},
   "outputs": [
    {
     "name": "stdout",
     "output_type": "stream",
     "text": [
      "Сохранено: data/agg_by_category.csv\n"
     ]
    }
   ],
   "source": [
    "rev_by_cat.to_csv('../data/agg_by_category.csv', index=False)\n",
    "print('Сохранено: data/agg_by_category.csv')\n"
   ]
  },
  {
   "cell_type": "markdown",
   "id": "a06059dc",
   "metadata": {},
   "source": [
    "## Выводы\n",
    "1. ...\n",
    "2. ...\n",
    "3. ...\n"
   ]
  },
  {
   "cell_type": "code",
   "execution_count": 13,
   "id": "dbc20a11-a7b3-4594-9230-b87d6964ecad",
   "metadata": {},
   "outputs": [
    {
     "data": {
      "text/html": [
       "<div>\n",
       "<style scoped>\n",
       "    .dataframe tbody tr th:only-of-type {\n",
       "        vertical-align: middle;\n",
       "    }\n",
       "\n",
       "    .dataframe tbody tr th {\n",
       "        vertical-align: top;\n",
       "    }\n",
       "\n",
       "    .dataframe thead th {\n",
       "        text-align: right;\n",
       "    }\n",
       "</style>\n",
       "<table border=\"1\" class=\"dataframe\">\n",
       "  <thead>\n",
       "    <tr style=\"text-align: right;\">\n",
       "      <th></th>\n",
       "      <th>category</th>\n",
       "      <th>price</th>\n",
       "      <th>share_pct</th>\n",
       "    </tr>\n",
       "  </thead>\n",
       "  <tbody>\n",
       "    <tr>\n",
       "      <th>2</th>\n",
       "      <td>Электроника</td>\n",
       "      <td>419700</td>\n",
       "      <td>71.015228</td>\n",
       "    </tr>\n",
       "    <tr>\n",
       "      <th>1</th>\n",
       "      <td>Одежда</td>\n",
       "      <td>90600</td>\n",
       "      <td>15.329949</td>\n",
       "    </tr>\n",
       "    <tr>\n",
       "      <th>0</th>\n",
       "      <td>Дом</td>\n",
       "      <td>80700</td>\n",
       "      <td>13.654822</td>\n",
       "    </tr>\n",
       "  </tbody>\n",
       "</table>\n",
       "</div>"
      ],
      "text/plain": [
       "      category   price  share_pct\n",
       "2  Электроника  419700  71.015228\n",
       "1       Одежда   90600  15.329949\n",
       "0          Дом   80700  13.654822"
      ]
     },
     "execution_count": 13,
     "metadata": {},
     "output_type": "execute_result"
    }
   ],
   "source": [
    "TOP_N = 3  # можно менять\n",
    "total_rev = rev_by_cat['price'].sum()\n",
    "topN = (rev_by_cat\n",
    "        .assign(share_pct=lambda d: d['price'] / total_rev * 100)\n",
    "        .nlargest(TOP_N, 'price'))\n",
    "topN\n"
   ]
  },
  {
   "cell_type": "code",
   "execution_count": 14,
   "id": "1b62b38c-b86f-43de-b16e-71bf7f027428",
   "metadata": {},
   "outputs": [
    {
     "data": {
      "image/png": "[encoded data removed]",
      "text/plain": [
       "<Figure size 800x400 with 1 Axes>"
      ]
     },
     "metadata": {},
     "output_type": "display_data"
    },
    {
     "name": "stdout",
     "output_type": "stream",
     "text": [
      "Сохранено: ds-starter/data/top_categories.png\n"
     ]
    }
   ],
   "source": [
    "ax = topN.plot(x='category', y='price', kind='bar', figsize=(8,4), legend=False)\n",
    "ax.set_title(f'Топ-{TOP_N} категорий по выручке')\n",
    "ax.set_xlabel('Категория'); ax.set_ylabel('Выручка')\n",
    "for p in ax.patches:\n",
    "    ax.annotate(f\"{int(p.get_height()):,}\".replace(',', ' '),\n",
    "                (p.get_x()+p.get_width()/2, p.get_height()),\n",
    "                ha='center', va='bottom', xytext=(0,5), textcoords='offset points')\n",
    "import matplotlib.pyplot as plt\n",
    "plt.tight_layout()\n",
    "plt.savefig('../data/top_categories.png', dpi=130, bbox_inches='tight')\n",
    "plt.show()\n",
    "print('Сохранено: ds-starter/data/top_categories.png')\n"
   ]
  },
  {
   "cell_type": "code",
   "execution_count": 15,
   "id": "6a928151-097f-4f75-8edc-adea7e61cd4a",
   "metadata": {},
   "outputs": [
    {
     "data": {
      "text/html": [
       "<div>\n",
       "<style scoped>\n",
       "    .dataframe tbody tr th:only-of-type {\n",
       "        vertical-align: middle;\n",
       "    }\n",
       "\n",
       "    .dataframe tbody tr th {\n",
       "        vertical-align: top;\n",
       "    }\n",
       "\n",
       "    .dataframe thead th {\n",
       "        text-align: right;\n",
       "    }\n",
       "</style>\n",
       "<table border=\"1\" class=\"dataframe\">\n",
       "  <thead>\n",
       "    <tr style=\"text-align: right;\">\n",
       "      <th></th>\n",
       "      <th>date</th>\n",
       "      <th>price</th>\n",
       "    </tr>\n",
       "  </thead>\n",
       "  <tbody>\n",
       "    <tr>\n",
       "      <th>0</th>\n",
       "      <td>2025-01-03</td>\n",
       "      <td>199900</td>\n",
       "    </tr>\n",
       "    <tr>\n",
       "      <th>1</th>\n",
       "      <td>2025-01-04</td>\n",
       "      <td>15900</td>\n",
       "    </tr>\n",
       "    <tr>\n",
       "      <th>2</th>\n",
       "      <td>2025-01-05</td>\n",
       "      <td>25900</td>\n",
       "    </tr>\n",
       "    <tr>\n",
       "      <th>3</th>\n",
       "      <td>2025-01-06</td>\n",
       "      <td>18900</td>\n",
       "    </tr>\n",
       "  </tbody>\n",
       "</table>\n",
       "</div>"
      ],
      "text/plain": [
       "        date   price\n",
       "0 2025-01-03  199900\n",
       "1 2025-01-04   15900\n",
       "2 2025-01-05   25900\n",
       "3 2025-01-06   18900"
      ]
     },
     "metadata": {},
     "output_type": "display_data"
    },
    {
     "data": {
      "text/html": [
       "<div>\n",
       "<style scoped>\n",
       "    .dataframe tbody tr th:only-of-type {\n",
       "        vertical-align: middle;\n",
       "    }\n",
       "\n",
       "    .dataframe tbody tr th {\n",
       "        vertical-align: top;\n",
       "    }\n",
       "\n",
       "    .dataframe thead th {\n",
       "        text-align: right;\n",
       "    }\n",
       "</style>\n",
       "<table border=\"1\" class=\"dataframe\">\n",
       "  <thead>\n",
       "    <tr style=\"text-align: right;\">\n",
       "      <th></th>\n",
       "      <th>category</th>\n",
       "      <th>price</th>\n",
       "    </tr>\n",
       "  </thead>\n",
       "  <tbody>\n",
       "    <tr>\n",
       "      <th>2</th>\n",
       "      <td>Электроника</td>\n",
       "      <td>199900</td>\n",
       "    </tr>\n",
       "    <tr>\n",
       "      <th>1</th>\n",
       "      <td>Одежда</td>\n",
       "      <td>34800</td>\n",
       "    </tr>\n",
       "    <tr>\n",
       "      <th>0</th>\n",
       "      <td>Дом</td>\n",
       "      <td>25900</td>\n",
       "    </tr>\n",
       "  </tbody>\n",
       "</table>\n",
       "</div>"
      ],
      "text/plain": [
       "      category   price\n",
       "2  Электроника  199900\n",
       "1       Одежда   34800\n",
       "0          Дом   25900"
      ]
     },
     "metadata": {},
     "output_type": "display_data"
    },
    {
     "data": {
      "image/png": "[encoded data removed]",
      "text/plain": [
       "<Figure size 800x300 with 1 Axes>"
      ]
     },
     "metadata": {},
     "output_type": "display_data"
    }
   ],
   "source": [
    "CITY = \"Алматы\"  # поменяй и перезапусти ячейки ниже\n",
    "df_city = df.query(\"city == @CITY\")\n",
    "rev_by_day_city = df_city.groupby('date', as_index=False)['price'].sum()\n",
    "rev_by_cat_city = df_city.groupby('category', as_index=False)['price'].sum().sort_values('price', ascending=False)\n",
    "\n",
    "display(rev_by_day_city.head())\n",
    "display(rev_by_cat_city)\n",
    "\n",
    "rev_by_day_city.plot(x='date', y='price', kind='line', figsize=(8,3), title=f'Выручка по дням — {CITY}')\n",
    "plt.tight_layout(); plt.show()\n"
   ]
  },
  {
   "cell_type": "code",
   "execution_count": 16,
   "id": "a4654886-1190-40e5-ab52-6e2ed0d64514",
   "metadata": {},
   "outputs": [
    {
     "name": "stdout",
     "output_type": "stream",
     "text": [
      "Готово: agg_by_category.csv и agg_by_category_Алматы.csv\n"
     ]
    }
   ],
   "source": [
    "rev_by_cat.to_csv('../data/agg_by_category.csv', index=False)\n",
    "rev_by_cat_city.to_csv(f'../data/agg_by_category_{CITY}.csv', index=False)\n",
    "print('Готово: agg_by_category.csv и agg_by_category_Алматы.csv')\n"
   ]
  },
  {
   "cell_type": "code",
   "execution_count": null,
   "id": "b19e04fd-4052-48eb-a45e-a83aa1b692ce",
   "metadata": {},
   "outputs": [],
   "source": [
    "agg_cat = (df\n",
    "           .groupby('category', as_index=False)['price']\n",
    "           .sum()\n",
    "           .sort_values('price', ascending=False))\n",
    "\n",
    "# Сохраним результат в CSV\n",
    "agg_cat.to_csv('../data/agg_by_category.csv', index=False, encoding='utf-8-sig')\n",
    "agg_cat\n"
   ]
  },
  {
   "cell_type": "code",
   "execution_count": null,
   "id": "bae2341d-7ff5-425f-a4a3-d0022c6d887d",
   "metadata": {},
   "outputs": [],
   "source": [
    "import matplotlib.pyplot as plt\n",
    "\n",
    "top_cities = (df.groupby('city', as_index=False)['price']\n",
    "                .sum()\n",
    "                .sort_values('price', ascending=False)\n",
    "                .head(5))\n",
    "\n",
    "top_cities.to_csv('../data/top_cities.csv', index=False, encoding='utf-8-sig')\n",
    "\n",
    "ax = top_cities.plot(kind='bar', x='city', y='price', legend=False, figsize=(8,4))\n",
    "ax.set_title('Топ-5 городов по выручке'); ax.set_xlabel('Город'); ax.set_ylabel('Выручка')\n",
    "plt.tight_layout()\n",
    "plt.savefig('../data/top_cities.png', dpi=150)\n",
    "plt.show()\n"
   ]
  },
  {
   "cell_type": "code",
   "execution_count": null,
   "id": "18e6fbbe-cea3-4b5c-b4ad-abb3a8e8dde0",
   "metadata": {},
   "outputs": [],
   "source": [
    "plt.savefig('../data/revenue_by_day.png', dpi=150)\n"
   ]
  }
 ],
 "metadata": {
  "kernelspec": {
   "display_name": "Python (ds)",
   "language": "python",
   "name": "ds"
  },
  "language_info": {
   "codemirror_mode": {
    "name": "ipython",
    "version": 3
   },
   "file_extension": ".py",
   "mimetype": "text/x-python",
   "name": "python",
   "nbconvert_exporter": "python",
   "pygments_lexer": "ipython3",
   "version": "3.11.14"
  }
 },
 "nbformat": 4,
 "nbformat_minor": 5
}
