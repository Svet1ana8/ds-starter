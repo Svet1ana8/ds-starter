{
 "cells": [
  {
   "cell_type": "markdown",
   "id": "57715d48",
   "metadata": {},
   "source": [
    "# Урок 1A: Базовый Python\n",
    "Запускайте ячейки `Shift+Enter`.\n"
   ]
  },
  {
   "cell_type": "code",
   "execution_count": null,
   "id": "43e4e579",
   "metadata": {},
   "outputs": [],
   "source": [
    "def clean_name(s: str) -> str:\n",
    "    s = s.strip()\n",
    "    while '  ' in s:\n",
    "        s = s.replace('  ', ' ')\n",
    "    return s.title()\n",
    "print(clean_name('  иван   иванов  '))\n"
   ]
  },
  {
   "cell_type": "code",
   "execution_count": null,
   "id": "382e5c2a",
   "metadata": {},
   "outputs": [],
   "source": [
    "tx = [('alice', 100), ('bob', 50), ('alice', 30)]\n",
    "totals = {}\n",
    "for user, amt in tx:\n",
    "    totals[user] = totals.get(user, 0) + amt\n",
    "totals\n"
   ]
  },
  {
   "cell_type": "code",
   "execution_count": null,
   "id": "3b688c03",
   "metadata": {},
   "outputs": [],
   "source": [
    "prices = [99, 149, 200, 210]\n",
    "labels = {p: ('cheap' if p < 120 else ('ok' if p <= 200 else 'expensive')) for p in prices}\n",
    "labels\n"
   ]
  }
 ],
 "metadata": {
  "kernelspec": {
   "display_name": "Python 3 (ipykernel)",
   "language": "python",
   "name": "python3"
  },
  "language_info": {
   "codemirror_mode": {
    "name": "ipython",
    "version": 3
   },
   "file_extension": ".py",
   "mimetype": "text/x-python",
   "name": "python",
   "nbconvert_exporter": "python",
   "pygments_lexer": "ipython3",
   "version": "3.11.14"
  }
 },
 "nbformat": 4,
 "nbformat_minor": 5
}
